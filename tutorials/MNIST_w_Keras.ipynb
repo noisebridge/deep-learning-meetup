{
  "nbformat": 4,
  "nbformat_minor": 0,
  "metadata": {
    "colab": {
      "name": "MNIST w/ Keras",
      "provenance": [],
      "collapsed_sections": [],
      "include_colab_link": true
    },
    "kernelspec": {
      "name": "python3",
      "display_name": "Python 3"
    },
    "language_info": {
      "name": "python"
    }
  },
  "cells": [
    {
      "cell_type": "markdown",
      "metadata": {
        "id": "view-in-github",
        "colab_type": "text"
      },
      "source": [
        "<a href=\"https://colab.research.google.com/github/noisebridge/deep-learning-meetup/blob/main/MNIST_w_Keras.ipynb\" target=\"_parent\"><img src=\"https://colab.research.google.com/assets/colab-badge.svg\" alt=\"Open In Colab\"/></a>"
      ]
    },
    {
      "cell_type": "code",
      "source": [
        "# Link to this notebook: https://colab.research.google.com/drive/1yIrHozKq0iOZCvmy8vMMDM9Jpi43D2eN?usp=sharing\n",
        "\n",
        "# Based on: https://keras.io/examples/vision/mnist_convnet/\n",
        "\n",
        "# https://bugz-mnist.herokuapp.com/\n",
        "# https://cs.stanford.edu/people/karpathy/convnetjs/demo/mnist.html"
      ],
      "metadata": {
        "id": "XdZq-VoJb9Rl"
      },
      "execution_count": null,
      "outputs": []
    },
    {
      "cell_type": "markdown",
      "source": [
        "![classification vs regression](https://www.researchgate.net/profile/Sami-Belkacem/publication/350993856/figure/fig2/AS:1014557191450626@1618900692681/Classification-vs-Regression.jpg)\n",
        "\n",
        "e.g. dog vs cat, or person no person. regression: height/weight or edges of bounding boxes"
      ],
      "metadata": {
        "id": "CPuLk0WUTRE3"
      }
    },
    {
      "cell_type": "markdown",
      "source": [
        "![binary vs multiclass classification](https://media.geeksforgeeks.org/wp-content/uploads/classification-1.png)"
      ],
      "metadata": {
        "id": "_eOOsv4aSHYw"
      }
    },
    {
      "cell_type": "markdown",
      "source": [
        "![MNIST](https://www.researchgate.net/profile/Kofi-Appiah-2/publication/252028600/figure/fig2/AS:298067136925718@1448076151592/Some-samples-of-the-MNIST-database.png)"
      ],
      "metadata": {
        "id": "PHOfuIN4So0D"
      }
    },
    {
      "cell_type": "code",
      "source": [
        "# To execute a cell, put the cursor in it and press ctrl+enter or ctrl+return"
      ],
      "metadata": {
        "id": "TLKHzXbBNzoI"
      },
      "execution_count": null,
      "outputs": []
    },
    {
      "cell_type": "code",
      "execution_count": null,
      "metadata": {
        "id": "VaxhmK-xNeGS"
      },
      "outputs": [],
      "source": [
        "# REQUIRED: imports for keras/tensorflow neural network development\n",
        "import numpy as np\n",
        "np.set_printoptions(linewidth=200, precision=2, suppress=True)\n",
        "from tensorflow import keras\n",
        "from tensorflow.keras import layers"
      ]
    },
    {
      "cell_type": "code",
      "source": [
        "# REQUIRED: imports for charting, make charts appear in this notebook inline\n",
        "%matplotlib inline\n",
        "import matplotlib.pyplot as plt"
      ],
      "metadata": {
        "id": "rb7KumgdNkqa"
      },
      "execution_count": null,
      "outputs": []
    },
    {
      "cell_type": "code",
      "source": [
        "# OPTIONAL: let's see a chart\n",
        "_ = plt.plot(np.linspace(0.0, 1.0, 100)) \n",
        "# _ is a variable of no particular name\n",
        "# - = ... just helps hide the untidy result"
      ],
      "metadata": {
        "colab": {
          "base_uri": "https://localhost:8080/",
          "height": 265
        },
        "id": "n-FJ8lpxNpkw",
        "outputId": "32492cdc-692f-41d4-c259-5f7094aaff33"
      },
      "execution_count": null,
      "outputs": [
        {
          "output_type": "display_data",
          "data": {
            "text/plain": [
              "<Figure size 432x288 with 1 Axes>"
            ],
            "image/png": "[encoded data removed]"
          },
          "metadata": {
            "needs_background": "light"
          }
        }
      ]
    },
    {
      "cell_type": "code",
      "source": [
        "# REQUIRED: load the dataset, checkout the \"shape\"\n",
        "(x_train, y_train), (x_test, y_test) = keras.datasets.mnist.load_data()\n",
        "\n",
        "# NB arrays and actually cubes of numbers, e.g. 60000 x 28 x 28 and 60000 (x 1)\n",
        "# we have a training and test sets, with x and y for each\n",
        "# job of neural network is to predict y after seeing x, i.e. y = f(x)\n",
        "print(f'x_train.shape {x_train.shape}')\n",
        "print(f'y_train.shape {y_train.shape}')\n",
        "print(f'x_test.shape {x_test.shape}')\n",
        "print(f'y_test.shape {y_test.shape}')"
      ],
      "metadata": {
        "colab": {
          "base_uri": "https://localhost:8080/"
        },
        "id": "V44SBeUHNu68",
        "outputId": "849ad34e-3be8-4858-c1ab-a0b1573a3923"
      },
      "execution_count": null,
      "outputs": [
        {
          "output_type": "stream",
          "name": "stdout",
          "text": [
            "x_train.shape (60000, 28, 28)\n",
            "y_train.shape (60000,)\n",
            "x_test.shape (10000, 28, 28)\n",
            "y_test.shape (10000,)\n"
          ]
        }
      ]
    },
    {
      "cell_type": "markdown",
      "source": [
        "![tensor shapes](https://miro.medium.com/max/931/1*XIOuiEjfXAXOFa0-w2_pTw.jpeg)"
      ],
      "metadata": {
        "id": "z0a2XM1cqN1X"
      }
    },
    {
      "cell_type": "code",
      "source": [
        "# OPTIONAL: array shapes 1D (4 [x 1])\n",
        "x = np.array([1, 2, 3, 4])\n",
        "x, x.shape"
      ],
      "metadata": {
        "colab": {
          "base_uri": "https://localhost:8080/"
        },
        "id": "l9xcMRwnUzCv",
        "outputId": "18dc54ec-cfa6-43a8-fec6-538a1380a43e"
      },
      "execution_count": null,
      "outputs": [
        {
          "output_type": "execute_result",
          "data": {
            "text/plain": [
              "(array([1, 2, 3, 4]), (4,))"
            ]
          },
          "metadata": {},
          "execution_count": 143
        }
      ]
    },
    {
      "cell_type": "code",
      "source": [
        "# OPTIONAL: array shape 2D (3 x3)\n",
        "x = np.array([[1, 2, 3], [4, 5, 6], [7, 8, 9]])\n",
        "x, x.shape"
      ],
      "metadata": {
        "colab": {
          "base_uri": "https://localhost:8080/"
        },
        "id": "6xjVeWtjU27X",
        "outputId": "a0c9b984-fe08-45e3-92b9-a99921e86e60"
      },
      "execution_count": null,
      "outputs": [
        {
          "output_type": "execute_result",
          "data": {
            "text/plain": [
              "(array([[1, 2, 3],\n",
              "        [4, 5, 6],\n",
              "        [7, 8, 9]]), (3, 3))"
            ]
          },
          "metadata": {},
          "execution_count": 144
        }
      ]
    },
    {
      "cell_type": "code",
      "source": [
        "# OPTIONAL: array shape 2D (3 x3)\n",
        "x = np.array([[[1, 2], [4, 5]], [[6, 7], [8, 9]]])\n",
        "x, x.shape"
      ],
      "metadata": {
        "colab": {
          "base_uri": "https://localhost:8080/"
        },
        "id": "929bxkmgVKX4",
        "outputId": "466d99e6-fd70-4654-f5fa-5f670c7fc022"
      },
      "execution_count": null,
      "outputs": [
        {
          "output_type": "execute_result",
          "data": {
            "text/plain": [
              "(array([[[1, 2],\n",
              "         [4, 5]],\n",
              " \n",
              "        [[6, 7],\n",
              "         [8, 9]]]), (2, 2, 2))"
            ]
          },
          "metadata": {},
          "execution_count": 145
        }
      ]
    },
    {
      "cell_type": "code",
      "source": [
        "# OPTIONAL: check out one image\n",
        "index = 12\n",
        "image_n = x_train[index] # an image in the 60K training data set\n",
        "_ = plt.imshow(image_n, cmap='gray', vmin=0, vmax=255)"
      ],
      "metadata": {
        "colab": {
          "base_uri": "https://localhost:8080/",
          "height": 265
        },
        "id": "zNsrBK-pOkiA",
        "outputId": "1d287473-7ce5-40b9-a23e-c92fb5480b2d"
      },
      "execution_count": null,
      "outputs": [
        {
          "output_type": "display_data",
          "data": {
            "text/plain": [
              "<Figure size 432x288 with 1 Axes>"
            ],
            "image/png": "[encoded data removed]"
          },
          "metadata": {
            "needs_background": "light"
          }
        }
      ]
    },
    {
      "cell_type": "code",
      "source": [
        "# OPTIONAL: let's see the numbers representing that image (the \"x\" in y = f(x))\n",
        "image_n"
      ],
      "metadata": {
        "colab": {
          "base_uri": "https://localhost:8080/"
        },
        "id": "QWh1lhJzPS1i",
        "outputId": "665615ba-2b21-45db-f737-c6104f509795"
      },
      "execution_count": null,
      "outputs": [
        {
          "output_type": "execute_result",
          "data": {
            "text/plain": [
              "array([[  0,   0,   0,   0,   0,   0,   0,   0,   0,   0,   0,   0,   0,   0,   0,   0,   0,   0,   0,   0,   0,   0,   0,   0,   0,   0,   0,   0],\n",
              "       [  0,   0,   0,   0,   0,   0,   0,   0,   0,   0,   0,   0,   0,   0,   0,   0,   0,   0,   0,   0,   0,   0,   0,   0,   0,   0,   0,   0],\n",
              "       [  0,   0,   0,   0,   0,   0,   0,   0,   0,   0,   0,   0,   0,   0,   0,   0,   0,   0,   0,   0,   0,   0,   0,   0,   0,   0,   0,   0],\n",
              "       [  0,   0,   0,   0,   0,   0,   0,   0,   0,   0,   0,   0,   0,   0,   0,   0,   0,   0,   0,   0,   0,   0,   0,   0,   0,   0,   0,   0],\n",
              "       [  0,   0,   0,   0,   0,   0,   0,   0,   0,   0,   0,   0,   0,   0,   0,   0,   0,   0,   0,   0,   0,   0,   0,   0,   0,   0,   0,   0],\n",
              "       [  0,   0,   0,  12,  99,  91, 142, 155, 246, 182, 155, 155, 155, 155, 131,  52,   0,   0,   0,   0,   0,   0,   0,   0,   0,   0,   0,   0],\n",
              "       [  0,   0,   0, 138, 254, 254, 254, 254, 254, 254, 254, 254, 254, 254, 254, 252, 210, 122,  33,   0,   0,   0,   0,   0,   0,   0,   0,   0],\n",
              "       [  0,   0,   0, 220, 254, 254, 254, 235, 189, 189, 189, 189, 150, 189, 205, 254, 254, 254,  75,   0,   0,   0,   0,   0,   0,   0,   0,   0],\n",
              "       [  0,   0,   0,  35,  74,  35,  35,  25,   0,   0,   0,   0,   0,   0,  13, 224, 254, 254, 153,   0,   0,   0,   0,   0,   0,   0,   0,   0],\n",
              "       [  0,   0,   0,   0,   0,   0,   0,   0,   0,   0,   0,   0,   0,   0,  90, 254, 254, 247,  53,   0,   0,   0,   0,   0,   0,   0,   0,   0],\n",
              "       [  0,   0,   0,   0,   0,   0,   0,   0,   0,   0,   0,   0,   6, 152, 246, 254, 254,  49,   0,   0,   0,   0,   0,   0,   0,   0,   0,   0],\n",
              "       [  0,   0,   0,   0,   0,   0,   0,   0,   0,   0,   0,  66, 158, 254, 254, 249, 103,   8,   0,   0,   0,   0,   0,   0,   0,   0,   0,   0],\n",
              "       [  0,   0,   0,   0,   0,   0,   0,   0,   0,   0,  54, 251, 254, 254, 254, 248,  74,   5,   0,   0,   0,   0,   0,   0,   0,   0,   0,   0],\n",
              "       [  0,   0,   0,   0,   0,   0,   0,   0,   0,   0, 140, 254, 254, 254, 254, 254, 254, 202, 125,  45,   0,   0,   0,   0,   0,   0,   0,   0],\n",
              "       [  0,   0,   0,   0,   0,   0,   0,   0,   0,   0,  58, 181, 234, 254, 254, 254, 254, 254, 254, 252, 140,  22,   0,   0,   0,   0,   0,   0],\n",
              "       [  0,   0,   0,   0,   0,   0,   0,   0,   0,   0,   0,   0,  30,  50,  73, 155, 253, 254, 254, 254, 254, 191,   2,   0,   0,   0,   0,   0],\n",
              "       [  0,   0,   0,   0,   0,   0,   0,   0,   0,   0,   0,   0,   0,   0,   0,   0,  91, 200, 254, 254, 254, 254, 118,   0,   0,   0,   0,   0],\n",
              "       [  0,   0,   0,   0,   0,   0,   0,   0,   0,   0,   0,   0,   0,   0,   0,   0,   0,   4, 192, 254, 254, 254, 154,   0,   0,   0,   0,   0],\n",
              "       [  0,   0,   0,   0,   0,   0,   0,   0,   0,   0,   0,   0,   0,   0,   0,   0,   0,   0, 141, 254, 254, 254, 116,   0,   0,   0,   0,   0],\n",
              "       [  0,   0,   0,   0,   0,   0,   0,   0,  25, 126,  86,   0,   0,   0,   0,   0,   0,   3, 188, 254, 254, 250,  61,   0,   0,   0,   0,   0],\n",
              "       [  0,   0,   0,   0,   0,   0,   0,  24, 209, 254,  15,   0,   0,   0,   0,   0,  23, 137, 254, 254, 254, 209,   0,   0,   0,   0,   0,   0],\n",
              "       [  0,   0,   0,   0,   0,   0,   0, 168, 254, 254,  48,   9,   0,   0,   9, 127, 241, 254, 254, 255, 242,  63,   0,   0,   0,   0,   0,   0],\n",
              "       [  0,   0,   0,   0,   0,   0,   0, 101, 254, 254, 254, 205, 190, 190, 205, 254, 254, 254, 254, 242,  67,   0,   0,   0,   0,   0,   0,   0],\n",
              "       [  0,   0,   0,   0,   0,   0,   0,  33, 166, 254, 254, 254, 254, 254, 254, 254, 254, 250, 138,  55,   0,   0,   0,   0,   0,   0,   0,   0],\n",
              "       [  0,   0,   0,   0,   0,   0,   0,   0,   7,  88, 154, 116, 194, 194, 154, 154,  88,  49,   0,   0,   0,   0,   0,   0,   0,   0,   0,   0],\n",
              "       [  0,   0,   0,   0,   0,   0,   0,   0,   0,   0,   0,   0,   0,   0,   0,   0,   0,   0,   0,   0,   0,   0,   0,   0,   0,   0,   0,   0],\n",
              "       [  0,   0,   0,   0,   0,   0,   0,   0,   0,   0,   0,   0,   0,   0,   0,   0,   0,   0,   0,   0,   0,   0,   0,   0,   0,   0,   0,   0],\n",
              "       [  0,   0,   0,   0,   0,   0,   0,   0,   0,   0,   0,   0,   0,   0,   0,   0,   0,   0,   0,   0,   0,   0,   0,   0,   0,   0,   0,   0]], dtype=uint8)"
            ]
          },
          "metadata": {},
          "execution_count": 32
        }
      ]
    },
    {
      "cell_type": "code",
      "source": [
        "# OPTIONAL: and the expected label (the \"y\" in y = f(\"x\"))\n",
        "y_train[index]"
      ],
      "metadata": {
        "colab": {
          "base_uri": "https://localhost:8080/"
        },
        "id": "N4WmeElaPsSq",
        "outputId": "23f3c7e4-53c2-4473-ecc5-1ba8a7fb5647"
      },
      "execution_count": null,
      "outputs": [
        {
          "output_type": "execute_result",
          "data": {
            "text/plain": [
              "3"
            ]
          },
          "metadata": {},
          "execution_count": 20
        }
      ]
    },
    {
      "cell_type": "code",
      "source": [
        "# REQUIRED: scale the images into [0..1]\n",
        "x_train = x_train.astype(\"float32\") / 255\n",
        "x_test = x_test.astype(\"float32\") / 255"
      ],
      "metadata": {
        "id": "Jl78QNM-R1g1"
      },
      "execution_count": null,
      "outputs": []
    },
    {
      "cell_type": "code",
      "source": [
        "# OPTIONAL: see the scaled image values\n",
        "x_train[index][:14, :14]"
      ],
      "metadata": {
        "colab": {
          "base_uri": "https://localhost:8080/"
        },
        "id": "gL3OtGkMUb2E",
        "outputId": "27be9096-74f1-47eb-e90b-0eefcde02f17"
      },
      "execution_count": null,
      "outputs": [
        {
          "output_type": "execute_result",
          "data": {
            "text/plain": [
              "array([[0.  , 0.  , 0.  , 0.  , 0.  , 0.  , 0.  , 0.  , 0.  , 0.  , 0.  , 0.  , 0.  , 0.  ],\n",
              "       [0.  , 0.  , 0.  , 0.  , 0.  , 0.  , 0.  , 0.  , 0.  , 0.  , 0.  , 0.  , 0.  , 0.  ],\n",
              "       [0.  , 0.  , 0.  , 0.  , 0.  , 0.  , 0.  , 0.  , 0.  , 0.  , 0.  , 0.  , 0.  , 0.  ],\n",
              "       [0.  , 0.  , 0.  , 0.  , 0.  , 0.  , 0.  , 0.  , 0.  , 0.  , 0.  , 0.  , 0.  , 0.  ],\n",
              "       [0.  , 0.  , 0.  , 0.  , 0.  , 0.  , 0.  , 0.  , 0.  , 0.  , 0.  , 0.  , 0.  , 0.  ],\n",
              "       [0.  , 0.  , 0.  , 0.05, 0.39, 0.36, 0.56, 0.61, 0.96, 0.71, 0.61, 0.61, 0.61, 0.61],\n",
              "       [0.  , 0.  , 0.  , 0.54, 1.  , 1.  , 1.  , 1.  , 1.  , 1.  , 1.  , 1.  , 1.  , 1.  ],\n",
              "       [0.  , 0.  , 0.  , 0.86, 1.  , 1.  , 1.  , 0.92, 0.74, 0.74, 0.74, 0.74, 0.59, 0.74],\n",
              "       [0.  , 0.  , 0.  , 0.14, 0.29, 0.14, 0.14, 0.1 , 0.  , 0.  , 0.  , 0.  , 0.  , 0.  ],\n",
              "       [0.  , 0.  , 0.  , 0.  , 0.  , 0.  , 0.  , 0.  , 0.  , 0.  , 0.  , 0.  , 0.  , 0.  ],\n",
              "       [0.  , 0.  , 0.  , 0.  , 0.  , 0.  , 0.  , 0.  , 0.  , 0.  , 0.  , 0.  , 0.02, 0.6 ],\n",
              "       [0.  , 0.  , 0.  , 0.  , 0.  , 0.  , 0.  , 0.  , 0.  , 0.  , 0.  , 0.26, 0.62, 1.  ],\n",
              "       [0.  , 0.  , 0.  , 0.  , 0.  , 0.  , 0.  , 0.  , 0.  , 0.  , 0.21, 0.98, 1.  , 1.  ],\n",
              "       [0.  , 0.  , 0.  , 0.  , 0.  , 0.  , 0.  , 0.  , 0.  , 0.  , 0.55, 1.  , 1.  , 1.  ]], dtype=float32)"
            ]
          },
          "metadata": {},
          "execution_count": 50
        }
      ]
    },
    {
      "cell_type": "code",
      "source": [
        "# OPTIONAL array slicing\n",
        "x = np.array([1, 2, 3, 5, 6])\n",
        "print(x)\n",
        "print(x[3:]) # everything starting from index 3 until end of array\n",
        "print(x[:3]) # everything up until index 3\n",
        "print(x[:-2]) # everything until the second last element of array"
      ],
      "metadata": {
        "colab": {
          "base_uri": "https://localhost:8080/"
        },
        "id": "qL9m6wAPUffI",
        "outputId": "ed0d2983-0f81-4e0c-b780-3196dd54cdc8"
      },
      "execution_count": null,
      "outputs": [
        {
          "output_type": "stream",
          "name": "stdout",
          "text": [
            "[1 2 3 5 6]\n",
            "[5 6]\n",
            "[1 2 3]\n",
            "[1 2 3]\n"
          ]
        }
      ]
    },
    {
      "cell_type": "code",
      "source": [
        "# REQUIRED: expand the dimensions of image arrays\n",
        "# turn 60000 x 28 x 28 -> 60000 x 28 x 28 x 1\n",
        "# 60000 samples, 28 pixels, by 28 pixels by 1 dimension/feature (the lightness of the pixel)\n",
        "print(\"x_train shape before:\", x_train.shape)\n",
        "x_train = np.expand_dims(x_train, -1) # -1 means all the current dimensions\n",
        "x_test = np.expand_dims(x_test, -1)\n",
        "print(\"x_train shape:\", x_train.shape)\n",
        "print(x_train.shape[0], \"train samples\")\n",
        "print(x_test.shape[0], \"test samples\")"
      ],
      "metadata": {
        "colab": {
          "base_uri": "https://localhost:8080/"
        },
        "id": "HcoJT4c7V0JK",
        "outputId": "27725ae5-e5d8-4966-da97-79bc6b2c17e6"
      },
      "execution_count": null,
      "outputs": [
        {
          "output_type": "stream",
          "name": "stdout",
          "text": [
            "x_train shape before: (60000, 28, 28)\n",
            "x_train shape: (60000, 28, 28, 1)\n",
            "60000 train samples\n",
            "10000 test samples\n"
          ]
        }
      ]
    },
    {
      "cell_type": "code",
      "source": [
        "# OPTIONAL. Remind ourselves what the \"y\" in y = f(x), the label looks like\n",
        "y_train[index]"
      ],
      "metadata": {
        "colab": {
          "base_uri": "https://localhost:8080/"
        },
        "id": "EyK1a7lOWGxn",
        "outputId": "a85f85fc-e6f9-4ddb-e5e3-43b7d42e9421"
      },
      "execution_count": null,
      "outputs": [
        {
          "output_type": "execute_result",
          "data": {
            "text/plain": [
              "3"
            ]
          },
          "metadata": {},
          "execution_count": 62
        }
      ]
    },
    {
      "cell_type": "code",
      "source": [
        "# REQUIRED: convert class vectors to binary class matrices\n",
        "num_classes = 10\n",
        "y_train = keras.utils.to_categorical(y_train, num_classes)\n",
        "y_test = keras.utils.to_categorical(y_test, num_classes)\n",
        "y_train.shape"
      ],
      "metadata": {
        "colab": {
          "base_uri": "https://localhost:8080/"
        },
        "id": "HkMmS3FqV_Z9",
        "outputId": "f662950d-34ca-4c38-b8d1-a8dc8fbd51be"
      },
      "execution_count": null,
      "outputs": [
        {
          "output_type": "execute_result",
          "data": {
            "text/plain": [
              "(60000, 10)"
            ]
          },
          "metadata": {},
          "execution_count": 14
        }
      ]
    },
    {
      "cell_type": "code",
      "source": [
        "# OPTIONAL check out \"one hot\" encoding\n",
        "y_train[index]"
      ],
      "metadata": {
        "colab": {
          "base_uri": "https://localhost:8080/"
        },
        "id": "l24fHBkEWNpo",
        "outputId": "fbcc24d6-0a53-4ee7-a5c7-bebdf55d6121"
      },
      "execution_count": null,
      "outputs": [
        {
          "output_type": "execute_result",
          "data": {
            "text/plain": [
              "array([0., 0., 0., 1., 0., 0., 0., 0., 0., 0.], dtype=float32)"
            ]
          },
          "metadata": {},
          "execution_count": 15
        }
      ]
    },
    {
      "cell_type": "code",
      "source": [
        "# OPTIONAL: one hot again\n",
        "labels = np.arange(10) # 0, 1, 2...9\n",
        "encoded_labels = keras.utils.to_categorical(labels, num_classes)\n",
        "for label, encoded_label in zip(labels, encoded_labels):\n",
        "  print(label, encoded_label)"
      ],
      "metadata": {
        "colab": {
          "base_uri": "https://localhost:8080/"
        },
        "id": "Nau3e22MWV8j",
        "outputId": "f27b3900-6f62-429c-8eeb-d1904583910b"
      },
      "execution_count": null,
      "outputs": [
        {
          "output_type": "stream",
          "name": "stdout",
          "text": [
            "0 [1. 0. 0. 0. 0. 0. 0. 0. 0. 0.]\n",
            "1 [0. 1. 0. 0. 0. 0. 0. 0. 0. 0.]\n",
            "2 [0. 0. 1. 0. 0. 0. 0. 0. 0. 0.]\n",
            "3 [0. 0. 0. 1. 0. 0. 0. 0. 0. 0.]\n",
            "4 [0. 0. 0. 0. 1. 0. 0. 0. 0. 0.]\n",
            "5 [0. 0. 0. 0. 0. 1. 0. 0. 0. 0.]\n",
            "6 [0. 0. 0. 0. 0. 0. 1. 0. 0. 0.]\n",
            "7 [0. 0. 0. 0. 0. 0. 0. 1. 0. 0.]\n",
            "8 [0. 0. 0. 0. 0. 0. 0. 0. 1. 0.]\n",
            "9 [0. 0. 0. 0. 0. 0. 0. 0. 0. 1.]\n"
          ]
        }
      ]
    },
    {
      "cell_type": "code",
      "source": [
        "# REQUIRED\n",
        "# 28 pixels, by 28 pixels by 1 dimension/feature (the lightness of the pixel)\n",
        "input_shape = (28, 28, 1)\n",
        "\n",
        "# keras.Sequential a stack of layers, passing information from one layer to the next\n",
        "model = keras.Sequential(\n",
        "    [\n",
        "        keras.Input(shape=input_shape),\n",
        "\n",
        "        layers.Conv2D(32, kernel_size=(3, 3), activation=\"relu\"),\n",
        "        layers.MaxPooling2D(pool_size=(2, 2)),\n",
        "\n",
        "        layers.Conv2D(64, kernel_size=(3, 3), activation=\"relu\"),\n",
        "        layers.MaxPooling2D(pool_size=(2, 2)),\n",
        "\n",
        "        layers.Flatten(),\n",
        "\n",
        "        layers.Dropout(0.5),\n",
        "\n",
        "        layers.Dense(num_classes, activation=\"softmax\"),\n",
        "    ]\n",
        ")\n",
        "\n",
        "model.summary()"
      ],
      "metadata": {
        "colab": {
          "base_uri": "https://localhost:8080/"
        },
        "id": "MBt9WxGnXI0z",
        "outputId": "a5aa3127-33cf-4ef9-cff7-bd47524efc48"
      },
      "execution_count": null,
      "outputs": [
        {
          "output_type": "stream",
          "name": "stdout",
          "text": [
            "Model: \"sequential_10\"\n",
            "_________________________________________________________________\n",
            " Layer (type)                Output Shape              Param #   \n",
            "=================================================================\n",
            " conv2d_12 (Conv2D)          (None, 26, 26, 32)        320       \n",
            "                                                                 \n",
            " max_pooling2d_12 (MaxPoolin  (None, 13, 13, 32)       0         \n",
            " g2D)                                                            \n",
            "                                                                 \n",
            " conv2d_13 (Conv2D)          (None, 11, 11, 64)        18496     \n",
            "                                                                 \n",
            " max_pooling2d_13 (MaxPoolin  (None, 5, 5, 64)         0         \n",
            " g2D)                                                            \n",
            "                                                                 \n",
            " flatten_4 (Flatten)         (None, 1600)              0         \n",
            "                                                                 \n",
            " dropout_3 (Dropout)         (None, 1600)              0         \n",
            "                                                                 \n",
            " dense_2 (Dense)             (None, 10)                16010     \n",
            "                                                                 \n",
            "=================================================================\n",
            "Total params: 34,826\n",
            "Trainable params: 34,826\n",
            "Non-trainable params: 0\n",
            "_________________________________________________________________\n"
          ]
        }
      ]
    },
    {
      "cell_type": "code",
      "source": [
        "# OPTIONAL: rebuild layer by layer\n",
        "input_shape = (28, 28, 1)\n",
        "\n",
        "# keras.Sequential a stack of layers, passing information from one layer to the next\n",
        "model = keras.Sequential(\n",
        "    [\n",
        "        # the same shape as the image\n",
        "        # actual data input will be B x H x W x D\n",
        "        # B a batch of images, say 32\n",
        "        # H & W, height and width, both 28\n",
        "        # D - dimension, 1, brightness of pixel\n",
        "        keras.Input(shape=input_shape),\n",
        "     \n",
        "        # \"scan\" convolution over image\n",
        "        layers.Conv2D(32, kernel_size=(3, 3), activation=\"relu\"),\n",
        "     \n",
        "        # choose max from each block\n",
        "        layers.MaxPooling2D(pool_size=(2, 2)),\n",
        "     \n",
        "\n",
        "        # repeat similar pattern of layers\n",
        "        layers.Conv2D(64, kernel_size=(3, 3), activation=\"relu\"),\n",
        "        layers.MaxPooling2D(pool_size=(2, 2)),\n",
        "     \n",
        "        # 1D vector\n",
        "        layers.Flatten(), # 64 x 25\n",
        "     \n",
        "        # improve training performance (Hinton?)\n",
        "        layers.Dropout(0.5),\n",
        "     \n",
        "        # \"probabilty\" classifier layer\n",
        "        layers.Dense(num_classes, activation=\"softmax\"),\n",
        "    ]\n",
        ")\n",
        "\n",
        "# make a fake dataset B x H x W x D\n",
        "fake_data = np.random.rand(32, 28, 28, 1)\n",
        "\n",
        "# get the model to predict, do the forward pass, calculate y = f(x)\n",
        "# and check out the shape of the result\n",
        "model.predict(fake_data).shape\n"
      ],
      "metadata": {
        "colab": {
          "base_uri": "https://localhost:8080/"
        },
        "id": "pNzYDAWxYQYQ",
        "outputId": "071f4744-7652-4ece-84aa-753d86416a28"
      },
      "execution_count": null,
      "outputs": [
        {
          "output_type": "execute_result",
          "data": {
            "text/plain": [
              "(32, 10)"
            ]
          },
          "metadata": {},
          "execution_count": 17
        }
      ]
    },
    {
      "cell_type": "markdown",
      "source": [
        "![dense network](https://freecontent.manning.com/wp-content/uploads/duerr_NNA_01.png)\n",
        "\n",
        "![convolution](https://encrypted-tbn0.gstatic.com/images?q=tbn:ANd9GcTAO04Eovo5TQ3pCda4AKNdX_6pEDHBQcs_Qw&usqp=CAU)\n",
        "\n",
        "![architecture](http://pytorch.org/tutorials/_images/mnist.png)\n",
        "\n",
        "![maxpool](https://www.researchgate.net/profile/Vijaya-Kumar-r/publication/338429324/figure/fig4/AS:855992673783810@1581095965438/padding-pads-of-an-image-with-zero-Second-layer-in-CNN--is-the--pooling-but-actually-we.jpg)"
      ],
      "metadata": {
        "id": "k-BthwToZPPe"
      }
    },
    {
      "cell_type": "code",
      "source": [
        "# REQUIRED! compile and train the model\n",
        "batch_size = 128\n",
        "epochs = 10\n",
        "\n",
        "model.compile(loss=\"categorical_crossentropy\", optimizer=\"adam\", metrics=[\"accuracy\"])\n",
        "\n",
        "history = model.fit(x_train, y_train, batch_size=batch_size, epochs=epochs, validation_split=0.1)"
      ],
      "metadata": {
        "colab": {
          "base_uri": "https://localhost:8080/"
        },
        "id": "jCAyK04eYuJ-",
        "outputId": "45ad057b-e23b-4773-b4e3-5638fd69f1d6"
      },
      "execution_count": null,
      "outputs": [
        {
          "output_type": "stream",
          "name": "stdout",
          "text": [
            "Epoch 1/10\n",
            "422/422 [==============================] - 41s 97ms/step - loss: 0.1902 - accuracy: 0.9441 - val_loss: 0.0634 - val_accuracy: 0.9817\n",
            "Epoch 2/10\n",
            "422/422 [==============================] - 42s 99ms/step - loss: 0.1171 - accuracy: 0.9645 - val_loss: 0.0511 - val_accuracy: 0.9862\n",
            "Epoch 3/10\n",
            "422/422 [==============================] - 41s 97ms/step - loss: 0.0960 - accuracy: 0.9704 - val_loss: 0.0385 - val_accuracy: 0.9885\n",
            "Epoch 4/10\n",
            "422/422 [==============================] - 41s 97ms/step - loss: 0.0877 - accuracy: 0.9729 - val_loss: 0.0417 - val_accuracy: 0.9860\n",
            "Epoch 5/10\n",
            "422/422 [==============================] - 41s 96ms/step - loss: 0.0748 - accuracy: 0.9768 - val_loss: 0.0424 - val_accuracy: 0.9868\n",
            "Epoch 6/10\n",
            "422/422 [==============================] - 41s 97ms/step - loss: 0.0716 - accuracy: 0.9775 - val_loss: 0.0360 - val_accuracy: 0.9887\n",
            "Epoch 7/10\n",
            "422/422 [==============================] - 41s 97ms/step - loss: 0.0631 - accuracy: 0.9798 - val_loss: 0.0303 - val_accuracy: 0.9908\n",
            "Epoch 8/10\n",
            "422/422 [==============================] - 42s 99ms/step - loss: 0.0597 - accuracy: 0.9811 - val_loss: 0.0305 - val_accuracy: 0.9912\n",
            "Epoch 9/10\n",
            "422/422 [==============================] - 41s 96ms/step - loss: 0.0597 - accuracy: 0.9812 - val_loss: 0.0341 - val_accuracy: 0.9903\n",
            "Epoch 10/10\n",
            "422/422 [==============================] - 41s 96ms/step - loss: 0.0565 - accuracy: 0.9821 - val_loss: 0.0328 - val_accuracy: 0.9903\n"
          ]
        }
      ]
    },
    {
      "cell_type": "code",
      "source": [
        "# OPTIONAL: but recommended. Check the learning curves/stats/metrics/history\n",
        "\n",
        "fig, ax1 = plt.subplots()\n",
        "ax2 = ax1.twinx()\n",
        "colors = plt.rcParams['axes.prop_cycle'].by_key()['color']\n",
        "count = 0\n",
        "lines = []\n",
        "for name, values in history.history.items():\n",
        "  ax = ax1 if name.endswith('loss') else ax2\n",
        "  line = ax.plot(values, label=name, c=colors[count])\n",
        "  lines.extend(line)\n",
        "  count += 1\n",
        "labels = [line.get_label() for line in lines]\n",
        "_ = ax1.legend(lines, labels, loc='center right')"
      ],
      "metadata": {
        "colab": {
          "base_uri": "https://localhost:8080/",
          "height": 265
        },
        "id": "n6adaJDEbgYD",
        "outputId": "e678f3b1-d780-49eb-fd20-1b798292e4bb"
      },
      "execution_count": null,
      "outputs": [
        {
          "output_type": "display_data",
          "data": {
            "text/plain": [
              "<Figure size 432x288 with 2 Axes>"
            ],
            "image/png": "[encoded data removed]"
          },
          "metadata": {
            "needs_background": "light"
          }
        }
      ]
    },
    {
      "cell_type": "code",
      "source": [
        "# OPTIONAL: evaulate whole test set\n",
        "score = model.evaluate(x_test, y_test, verbose=0)\n",
        "print(\"Test loss:\", score[0])\n",
        "print(\"Test accuracy:\", score[1])"
      ],
      "metadata": {
        "colab": {
          "base_uri": "https://localhost:8080/"
        },
        "id": "FMKSXCMLbjbO",
        "outputId": "1809b8ec-779f-4f70-a416-a80010e7a6f4"
      },
      "execution_count": null,
      "outputs": [
        {
          "output_type": "stream",
          "name": "stdout",
          "text": [
            "Test loss: 0.03669443354010582\n",
            "Test accuracy: 0.9891999959945679\n"
          ]
        }
      ]
    },
    {
      "cell_type": "code",
      "source": [
        "# OPTIONAL: see 1 prediction\n",
        "one_image_batch = np.expand_dims(x_train[index], 0)\n",
        "one_image_batch.shape\n",
        "yhat = model.predict(one_image_batch)\n",
        "yhat\n",
        "# np.argmax(yhat)"
      ],
      "metadata": {
        "colab": {
          "base_uri": "https://localhost:8080/"
        },
        "id": "N7BDnKZimZtC",
        "outputId": "2907b671-3644-4eed-e018-665f0dbb2d9d"
      },
      "execution_count": null,
      "outputs": [
        {
          "output_type": "execute_result",
          "data": {
            "text/plain": [
              "array([[0., 0., 0., 1., 0., 0., 0., 0., 0., 0.]], dtype=float32)"
            ]
          },
          "metadata": {},
          "execution_count": 137
        }
      ]
    },
    {
      "cell_type": "code",
      "source": [
        "# OPTIONAL try to overfit\n",
        "\n",
        "model2 = keras.Sequential(\n",
        "    [\n",
        "        keras.Input(shape=input_shape),\n",
        "\n",
        "        layers.Conv2D(32, kernel_size=(3, 3), activation=\"relu\"),\n",
        "        layers.MaxPooling2D(pool_size=(2, 2)),\n",
        "\n",
        "        layers.Conv2D(64, kernel_size=(3, 3), activation=\"relu\"),\n",
        "        layers.MaxPooling2D(pool_size=(2, 2)),\n",
        "\n",
        "        layers.Flatten(),\n",
        "\n",
        "        layers.Dropout(0.5),\n",
        "\n",
        "        layers.Dense(num_classes, activation=\"softmax\"),\n",
        "    ]\n",
        ")\n",
        "\n",
        "batch_size = 128\n",
        "epochs = 40\n",
        "\n",
        "model2.compile(loss=\"categorical_crossentropy\", optimizer=\"adam\", metrics=[\"accuracy\"])\n",
        "\n",
        "history2 = model2.fit(x_test, y_test, batch_size=batch_size, epochs=epochs, validation_split=0.9)\n"
      ],
      "metadata": {
        "colab": {
          "base_uri": "https://localhost:8080/"
        },
        "id": "GNlMk6wKbjsR",
        "outputId": "aa23019a-b579-4dd8-d98f-a08b8d6b5be8"
      },
      "execution_count": null,
      "outputs": [
        {
          "output_type": "stream",
          "name": "stdout",
          "text": [
            "Epoch 1/40\n",
            "8/8 [==============================] - 3s 354ms/step - loss: 29.7927 - accuracy: 0.2082 - val_loss: 3.0442 - val_accuracy: 0.5938\n",
            "Epoch 2/40\n",
            "8/8 [==============================] - 2s 336ms/step - loss: 6.8842 - accuracy: 0.4595 - val_loss: 1.4415 - val_accuracy: 0.7496\n",
            "Epoch 3/40\n",
            "8/8 [==============================] - 2s 335ms/step - loss: 2.7578 - accuracy: 0.6396 - val_loss: 0.8752 - val_accuracy: 0.8025\n",
            "Epoch 4/40\n",
            "8/8 [==============================] - 2s 333ms/step - loss: 1.6077 - accuracy: 0.7007 - val_loss: 0.6699 - val_accuracy: 0.8340\n",
            "Epoch 5/40\n",
            "8/8 [==============================] - 2s 335ms/step - loss: 1.2457 - accuracy: 0.7227 - val_loss: 0.5407 - val_accuracy: 0.8487\n",
            "Epoch 6/40\n",
            "8/8 [==============================] - 2s 337ms/step - loss: 0.9684 - accuracy: 0.7648 - val_loss: 0.4922 - val_accuracy: 0.8596\n",
            "Epoch 7/40\n",
            "8/8 [==============================] - 2s 334ms/step - loss: 0.6875 - accuracy: 0.8108 - val_loss: 0.4511 - val_accuracy: 0.8708\n",
            "Epoch 8/40\n",
            "8/8 [==============================] - 2s 335ms/step - loss: 0.6198 - accuracy: 0.8308 - val_loss: 0.3949 - val_accuracy: 0.8879\n",
            "Epoch 9/40\n",
            "8/8 [==============================] - 2s 335ms/step - loss: 0.5389 - accuracy: 0.8358 - val_loss: 0.3512 - val_accuracy: 0.8999\n",
            "Epoch 10/40\n",
            "8/8 [==============================] - 2s 340ms/step - loss: 0.4150 - accuracy: 0.8669 - val_loss: 0.3497 - val_accuracy: 0.8980\n",
            "Epoch 11/40\n",
            "8/8 [==============================] - 2s 334ms/step - loss: 0.4592 - accuracy: 0.8649 - val_loss: 0.3467 - val_accuracy: 0.9017\n",
            "Epoch 12/40\n",
            "8/8 [==============================] - 2s 332ms/step - loss: 0.3854 - accuracy: 0.8849 - val_loss: 0.3361 - val_accuracy: 0.9052\n",
            "Epoch 13/40\n",
            "8/8 [==============================] - 2s 335ms/step - loss: 0.3534 - accuracy: 0.8829 - val_loss: 0.3300 - val_accuracy: 0.9081\n",
            "Epoch 14/40\n",
            "8/8 [==============================] - 2s 336ms/step - loss: 0.3058 - accuracy: 0.8919 - val_loss: 0.3260 - val_accuracy: 0.9087\n",
            "Epoch 15/40\n",
            "8/8 [==============================] - 2s 337ms/step - loss: 0.2754 - accuracy: 0.9119 - val_loss: 0.3262 - val_accuracy: 0.9092\n",
            "Epoch 16/40\n",
            "8/8 [==============================] - 2s 335ms/step - loss: 0.2560 - accuracy: 0.9129 - val_loss: 0.3429 - val_accuracy: 0.9063\n",
            "Epoch 17/40\n",
            "8/8 [==============================] - 2s 336ms/step - loss: 0.2308 - accuracy: 0.9089 - val_loss: 0.2989 - val_accuracy: 0.9182\n",
            "Epoch 18/40\n",
            "8/8 [==============================] - 2s 336ms/step - loss: 0.2163 - accuracy: 0.9319 - val_loss: 0.2865 - val_accuracy: 0.9228\n",
            "Epoch 19/40\n",
            "8/8 [==============================] - 2s 340ms/step - loss: 0.2244 - accuracy: 0.9239 - val_loss: 0.2858 - val_accuracy: 0.9209\n",
            "Epoch 20/40\n",
            "8/8 [==============================] - 2s 339ms/step - loss: 0.1905 - accuracy: 0.9289 - val_loss: 0.2901 - val_accuracy: 0.9226\n",
            "Epoch 21/40\n",
            "8/8 [==============================] - 2s 337ms/step - loss: 0.1980 - accuracy: 0.9359 - val_loss: 0.2917 - val_accuracy: 0.9242\n",
            "Epoch 22/40\n",
            "8/8 [==============================] - 2s 334ms/step - loss: 0.1757 - accuracy: 0.9409 - val_loss: 0.2902 - val_accuracy: 0.9211\n",
            "Epoch 23/40\n",
            "8/8 [==============================] - 2s 342ms/step - loss: 0.1500 - accuracy: 0.9469 - val_loss: 0.2720 - val_accuracy: 0.9282\n",
            "Epoch 24/40\n",
            "8/8 [==============================] - 2s 334ms/step - loss: 0.1441 - accuracy: 0.9489 - val_loss: 0.2753 - val_accuracy: 0.9276\n",
            "Epoch 25/40\n",
            "8/8 [==============================] - 2s 336ms/step - loss: 0.1340 - accuracy: 0.9530 - val_loss: 0.2682 - val_accuracy: 0.9283\n",
            "Epoch 26/40\n",
            "8/8 [==============================] - 2s 337ms/step - loss: 0.1548 - accuracy: 0.9469 - val_loss: 0.2736 - val_accuracy: 0.9278\n",
            "Epoch 27/40\n",
            "8/8 [==============================] - 2s 343ms/step - loss: 0.0875 - accuracy: 0.9630 - val_loss: 0.2654 - val_accuracy: 0.9302\n",
            "Epoch 28/40\n",
            "8/8 [==============================] - 2s 338ms/step - loss: 0.1341 - accuracy: 0.9600 - val_loss: 0.2692 - val_accuracy: 0.9307\n",
            "Epoch 29/40\n",
            "8/8 [==============================] - 2s 337ms/step - loss: 0.1101 - accuracy: 0.9610 - val_loss: 0.2641 - val_accuracy: 0.9297\n",
            "Epoch 30/40\n",
            "8/8 [==============================] - 2s 335ms/step - loss: 0.1005 - accuracy: 0.9680 - val_loss: 0.2614 - val_accuracy: 0.9328\n",
            "Epoch 31/40\n",
            "8/8 [==============================] - 2s 338ms/step - loss: 0.0869 - accuracy: 0.9710 - val_loss: 0.2671 - val_accuracy: 0.9325\n",
            "Epoch 32/40\n",
            "8/8 [==============================] - 2s 332ms/step - loss: 0.1186 - accuracy: 0.9650 - val_loss: 0.2669 - val_accuracy: 0.9337\n",
            "Epoch 33/40\n",
            "8/8 [==============================] - 2s 338ms/step - loss: 0.1014 - accuracy: 0.9630 - val_loss: 0.2762 - val_accuracy: 0.9321\n",
            "Epoch 34/40\n",
            "8/8 [==============================] - 2s 333ms/step - loss: 0.1110 - accuracy: 0.9590 - val_loss: 0.2568 - val_accuracy: 0.9360\n",
            "Epoch 35/40\n",
            "8/8 [==============================] - 2s 336ms/step - loss: 0.0766 - accuracy: 0.9700 - val_loss: 0.2523 - val_accuracy: 0.9369\n",
            "Epoch 36/40\n",
            "8/8 [==============================] - 2s 334ms/step - loss: 0.1028 - accuracy: 0.9610 - val_loss: 0.2575 - val_accuracy: 0.9363\n",
            "Epoch 37/40\n",
            "8/8 [==============================] - 2s 336ms/step - loss: 0.0578 - accuracy: 0.9820 - val_loss: 0.2708 - val_accuracy: 0.9348\n",
            "Epoch 38/40\n",
            "8/8 [==============================] - 2s 333ms/step - loss: 0.0744 - accuracy: 0.9750 - val_loss: 0.2618 - val_accuracy: 0.9373\n",
            "Epoch 39/40\n",
            "8/8 [==============================] - 2s 331ms/step - loss: 0.0888 - accuracy: 0.9780 - val_loss: 0.2627 - val_accuracy: 0.9369\n",
            "Epoch 40/40\n",
            "8/8 [==============================] - 2s 332ms/step - loss: 0.0630 - accuracy: 0.9790 - val_loss: 0.2765 - val_accuracy: 0.9345\n"
          ]
        }
      ]
    },
    {
      "cell_type": "code",
      "source": [
        "# OPTIONAL visualize overfitting\n",
        "\n",
        "fig, ax1 = plt.subplots()\n",
        "fig.set_size_inches(16, 8)\n",
        "ax2 = ax1.twinx()\n",
        "colors = plt.rcParams['axes.prop_cycle'].by_key()['color']\n",
        "count = 0\n",
        "lines = []\n",
        "for name, values in history2.history.items():\n",
        "  ax = ax1 if name.endswith('loss') else ax2\n",
        "  line = ax.plot(values, label=name, c=colors[count])\n",
        "  lines.extend(line)\n",
        "  count += 1\n",
        "labels = [line.get_label() for line in lines]\n",
        "_ = ax1.legend(lines, labels, loc='center right')"
      ],
      "metadata": {
        "colab": {
          "base_uri": "https://localhost:8080/",
          "height": 483
        },
        "id": "Yq18ivanf5ji",
        "outputId": "cb56b0b0-b49b-400d-b182-981e0d0b9a85"
      },
      "execution_count": null,
      "outputs": [
        {
          "output_type": "display_data",
          "data": {
            "text/plain": [
              "<Figure size 1152x576 with 2 Axes>"
            ],
            "image/png": "[encoded data removed]"
          },
          "metadata": {
            "needs_background": "light"
          }
        }
      ]
    },
    {
      "cell_type": "code",
      "source": [
        "# OPTIONAL: categorical crossentropy loss\n",
        "\n",
        "import tensorflow as tf\n",
        "y_true = [[0, 1, 0], [0, 0, 1]]\n",
        "y_pred = [[0.05, 0.95, 0], [0.1, 0.8, 0.1]]\n",
        "# y_pred = tf.convert_to_tensor(y_true, dtype=tf.float32)\n",
        "# Using 'auto'/'sum_over_batch_size' reduction type.\n",
        "cce = keras.losses.CategoricalCrossentropy()\n",
        "cce(y_true, y_pred).numpy()"
      ],
      "metadata": {
        "colab": {
          "base_uri": "https://localhost:8080/"
        },
        "id": "aYBo3ER2f597",
        "outputId": "e9db503b-7084-424f-b7cd-8111e7a55315"
      },
      "execution_count": null,
      "outputs": [
        {
          "output_type": "execute_result",
          "data": {
            "text/plain": [
              "1.1769392"
            ]
          },
          "metadata": {},
          "execution_count": 128
        }
      ]
    },
    {
      "cell_type": "code",
      "source": [
        "# fashion MNIST\n",
        "# omniglot"
      ],
      "metadata": {
        "id": "7s6HHpRQRa1r"
      },
      "execution_count": null,
      "outputs": []
    }
  ]
}